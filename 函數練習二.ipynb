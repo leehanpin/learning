{
 "cells": [
  {
   "cell_type": "code",
   "execution_count": 11,
   "metadata": {},
   "outputs": [],
   "source": [
    "%matplotlib inline\n",
    "import math\n",
    "import numpy as np\n",
    "import matplotlib.pyplot as plt"
   ]
  },
  {
   "cell_type": "code",
   "execution_count": 5,
   "metadata": {},
   "outputs": [
    {
     "data": {
      "text/plain": [
       "0.125"
      ]
     },
     "execution_count": 5,
     "metadata": {},
     "output_type": "execute_result"
    }
   ],
   "source": [
    "def nCk(n, k):\n",
    "    f = math.factorial\n",
    "    #n!/k!/(n-k)!\n",
    "    return ( f(n) / f(k) / f(n-k) )\n",
    "\n",
    "def f(k, n, p):\n",
    "    return( nCk(n, k)* p**k * (1-p)**(n-k) )\n",
    "      \n",
    "# 表示 3C2 0.5\n",
    "f(0, 3, 0.5)\n"
   ]
  },
  {
   "cell_type": "code",
   "execution_count": 13,
   "metadata": {},
   "outputs": [
    {
     "data": {
      "image/png": "[encoded data removed]",
      "text/plain": [
       "<Figure size 432x288 with 1 Axes>"
      ]
     },
     "metadata": {
      "needs_background": "light"
     },
     "output_type": "display_data"
    },
    {
     "name": "stdout",
     "output_type": "stream",
     "text": [
      "0.024390243902439025 20\n"
     ]
    }
   ],
   "source": [
    "#blue\n",
    "n = 20\n",
    "p = 0.5\n",
    "blue = [f(i, n, p) for i in range(n+1)]\n",
    "plt.scatter(range(n+1), blue, c='b')\n",
    "\n",
    "\n",
    "#green\n",
    "n = 20\n",
    "p = 0.7\n",
    "green = [f(i, n, p) for i in range(n+1)]\n",
    "plt.scatter(range(n+1), green, c='g')\n",
    "\n",
    "#red\n",
    "n = 40\n",
    "p = 0.5\n",
    "red = [f(i, n, p) for i in range(n+1)]\n",
    "plt.grid()\n",
    "plt.scatter(range(n+1), red, c='r')\n",
    "plt.show()\n",
    "print(np.mean(red), np.argmax(red))"
   ]
  },
  {
   "cell_type": "code",
   "execution_count": null,
   "metadata": {},
   "outputs": [],
   "source": []
  }
 ],
 "metadata": {
  "kernelspec": {
   "display_name": "Python 3",
   "language": "python",
   "name": "python3"
  },
  "language_info": {
   "codemirror_mode": {
    "name": "ipython",
    "version": 3
   },
   "file_extension": ".py",
   "mimetype": "text/x-python",
   "name": "python",
   "nbconvert_exporter": "python",
   "pygments_lexer": "ipython3",
   "version": "3.6.7"
  }
 },
 "nbformat": 4,
 "nbformat_minor": 2
}
