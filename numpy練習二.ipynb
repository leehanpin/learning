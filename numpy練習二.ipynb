{
 "cells": [
  {
   "cell_type": "code",
   "execution_count": 6,
   "metadata": {
    "scrolled": true
   },
   "outputs": [
    {
     "data": {
      "text/plain": [
       "0"
      ]
     },
     "execution_count": 6,
     "metadata": {},
     "output_type": "execute_result"
    }
   ],
   "source": [
    "import numpy as np\n",
    "game = np.random.randn(10)\n",
    "\n",
    "end = np.where(game > 0, 1, -1)\n",
    "sum(end)\n",
    "#dir(np.random.randn)"
   ]
  },
  {
   "cell_type": "code",
   "execution_count": 3,
   "metadata": {},
   "outputs": [
    {
     "data": {
      "text/plain": [
       "array([-0.24724258,  0.38440802,  1.34672078,  1.07647906,  1.20688525,\n",
       "        0.37539332, -0.8018003 , -0.83727895,  0.34084543, -0.24917646])"
      ]
     },
     "execution_count": 3,
     "metadata": {},
     "output_type": "execute_result"
    }
   ],
   "source": [
    "import numpy as np\n",
    "#np.random.randn?\n",
    "\n",
    "dir(np.random.randn)\n",
    "# 賭客 \n",
    "import numpy as np\n",
    "np.random.randn()\n",
    "\n",
    "\n",
    "# 賭客 \n",
    "import numpy as np\n",
    "np.random.randn(10)\n",
    "\n",
    "\n",
    "# 規則 如果大於 > 0 客戶拿一元\n",
    "#      如果大於 <= 0 公司拿回一元\n",
    "\n",
    "# 幫忙寫個函數　輸入參數就玩幾次　輸出給我　金額\n",
    "\n",
    "\n",
    "#　請問賭了十次　最後從客戶角度來看　最後錢\n",
    "\n",
    "#dir(np.random.randn)\n"
   ]
  },
  {
   "cell_type": "code",
   "execution_count": 4,
   "metadata": {},
   "outputs": [
    {
     "name": "stdout",
     "output_type": "stream",
     "text": [
      "[-0.7940557   1.0107564  -0.18307338  1.98828548  0.4879725   1.65903165\n",
      " -3.11244072  0.43487673  1.29428626 -0.48837599]\n"
     ]
    },
    {
     "data": {
      "text/plain": [
       "2"
      ]
     },
     "execution_count": 4,
     "metadata": {},
     "output_type": "execute_result"
    }
   ],
   "source": [
    "game = np.random.randn(10)\n",
    "print(game)\n",
    "money = np.cumsum(np.where(game>0, 1 , -1))\n",
    "money[-1]\n"
   ]
  },
  {
   "cell_type": "code",
   "execution_count": 8,
   "metadata": {},
   "outputs": [
    {
     "data": {
      "text/plain": [
       "array([[ -1,  -1,   0, ...,   0,   1,   3],\n",
       "       [ -1,  -1,  -2, ...,  -2,  -1,   1],\n",
       "       [ -1,  -1,  -2, ..., -18, -23, -27],\n",
       "       ...,\n",
       "       [ -1,  -1,   0, ...,  10,  13,  15],\n",
       "       [ -1,  -3,  -6, ..., -20, -21, -21],\n",
       "       [  1,   3,   6, ...,  22,  27,  33]], dtype=int32)"
      ]
     },
     "execution_count": 8,
     "metadata": {},
     "output_type": "execute_result"
    }
   ],
   "source": [
    "def final(time):\n",
    "    game = np.random.randn(time)\n",
    "    money = np.cumsum(np.where(game>0, 1 , -1))\n",
    "    result = np.cumsum(money)\n",
    "    \n",
    "    return result\n",
    "\n",
    "# 找個　1000人來 各玩10次\n",
    "people = 1000\n",
    "time = 10\n",
    "games = [final(time) for i in range(people) ]\n",
    "np.array(games)\n"
   ]
  },
  {
   "cell_type": "code",
   "execution_count": null,
   "metadata": {},
   "outputs": [],
   "source": []
  }
 ],
 "metadata": {
  "kernelspec": {
   "display_name": "Python 3",
   "language": "python",
   "name": "python3"
  },
  "language_info": {
   "codemirror_mode": {
    "name": "ipython",
    "version": 3
   },
   "file_extension": ".py",
   "mimetype": "text/x-python",
   "name": "python",
   "nbconvert_exporter": "python",
   "pygments_lexer": "ipython3",
   "version": "3.6.7"
  }
 },
 "nbformat": 4,
 "nbformat_minor": 2
}
